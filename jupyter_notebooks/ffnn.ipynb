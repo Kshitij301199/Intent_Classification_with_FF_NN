{
 "cells": [
  {
   "cell_type": "code",
   "execution_count": 1,
   "metadata": {},
   "outputs": [],
   "source": [
    "import numpy as np \n",
    "import numpy.typing as npt\n",
    "import csv\n",
    "from collections import Counter\n",
    "\n",
    "from typing import Tuple,List,Set\n",
    "import matplotlib.pyplot as plt\n"
   ]
  },
  {
   "cell_type": "code",
   "execution_count": 4,
   "metadata": {},
   "outputs": [],
   "source": [
    "def load_dataset(filename: str) -> Tuple[List[str], List[str], Set[str]]:\n",
    "    intent = []\n",
    "    unique_intent = []\n",
    "    sentences = []\n",
    "    with open(filename, \"r\", encoding=\"latin1\") as f:\n",
    "        data = csv.reader(f, delimiter=\",\")\n",
    "        for row in data:\n",
    "            sentences.append(row[0])\n",
    "            intent.append(row[1])\n",
    "    unique_intent = set(intent)\n",
    "    return sentences, intent, unique_intent\n",
    "\n",
    "# sentences, intent, unique_intent = load_dataset(\"../data/dataset.csv\")\n"
   ]
  },
  {
   "cell_type": "code",
   "execution_count": 5,
   "metadata": {},
   "outputs": [],
   "source": [
    "\n",
    "def bag_of_words_matrix(sentences: List[str],COUNT_THRESHOLD: int) -> npt.ArrayLike:\n",
    "    \"\"\"\n",
    "    Convert the dataset into V x M matrix.\n",
    "    \"\"\"\n",
    "    token_list = [sentence.strip().split(\" \") for sentence in sentences]\n",
    "    token_list = [token.strip().lower() for token in sum(token_list,[])]\n",
    "\n",
    "    word_dict = Counter(token_list)\n",
    "    COUNT_THRESHOLD = 2\n",
    "    word_dict_t = {\"<UNK>\":0}\n",
    "\n",
    "    for word, count in word_dict.items():\n",
    "        if count <= COUNT_THRESHOLD:\n",
    "            word_dict_t[\"<UNK>\"] += count\n",
    "        else:\n",
    "            word_dict_t[word] = count\n",
    "            \n",
    "    vocab = list(word_dict_t.keys())\n",
    "\n",
    "    word_matrix = np.zeros(shape=(len(sentences),len(vocab)))\n",
    "\n",
    "    for sent_index,sentence in enumerate(sentences):\n",
    "        sent = [token if token in vocab else \"<UNK>\" for token in sentence.strip().split(\" \")]\n",
    "        sent_count_dict = Counter(sent)\n",
    "        for vocab_index,vocab_word in enumerate(vocab):\n",
    "            if vocab_word in sent_count_dict.keys():\n",
    "                word_matrix[sent_index,vocab_index] = sent_count_dict[vocab_word]            \n",
    "    word_matrix = word_matrix.T\n",
    "    print(word_matrix.shape)\n",
    "    \n",
    "    return word_matrix\n",
    "\n",
    "def labels_matrix(data: Tuple[List[str], Set[str]]) -> npt.ArrayLike:\n",
    "    \"\"\"\n",
    "    Convert the dataset into K x M matrix.\n",
    "    \"\"\"\n",
    "    intent = data[0]\n",
    "    intent_vocab = data[1]\n",
    "\n",
    "    label_matrix = np.zeros(shape=(len(intent),len(intent_vocab)))\n",
    "    \n",
    "    for index, label in enumerate(intent):\n",
    "        for int_index, intent in enumerate(intent_vocab):\n",
    "            if label == intent:\n",
    "                label_matrix[index,int_index] = 1\n",
    "    \n",
    "    label_matrix = label_matrix.T\n",
    "    print(label_matrix.shape)\n",
    "    \n",
    "    return label_matrix"
   ]
  },
  {
   "cell_type": "code",
   "execution_count": 102,
   "metadata": {},
   "outputs": [
    {
     "name": "stdout",
     "output_type": "stream",
     "text": [
      "(287, 1000)\n",
      "(7, 1000)\n",
      "(287, 1000)\n"
     ]
    }
   ],
   "source": [
    "X = bag_of_words_matrix(sentences=sentences,COUNT_THRESHOLD=2)\n",
    "# bias = np.ones(shape=X.shape[1]).reshape(1,X.shape[1])\n",
    "# X = np.append(bias,X,axis=0)\n",
    "y = labels_matrix(data=(intent,unique_intent))\n",
    "print(X.shape)"
   ]
  },
  {
   "cell_type": "code",
   "execution_count": 132,
   "metadata": {},
   "outputs": [],
   "source": [
    "np.random.seed(42)\n",
    "internal_weights = np.random.uniform(low = -1.0,\n",
    "                                    high = 1.0,\n",
    "                                    size = (288,150),\n",
    "                                    )\n",
    "output_weights = np.random.uniform(low = -1,\n",
    "                                        high = 1,\n",
    "                                        size = (150,7)\n",
    "                                        )"
   ]
  },
  {
   "cell_type": "code",
   "execution_count": 6,
   "metadata": {},
   "outputs": [],
   "source": [
    "# weights.T.shape"
   ]
  },
  {
   "cell_type": "code",
   "execution_count": 7,
   "metadata": {},
   "outputs": [],
   "source": [
    "# z = np.matmul(weights.T,X)"
   ]
  },
  {
   "cell_type": "code",
   "execution_count": 8,
   "metadata": {},
   "outputs": [],
   "source": [
    "# z.shape"
   ]
  },
  {
   "cell_type": "code",
   "execution_count": 9,
   "metadata": {},
   "outputs": [],
   "source": [
    "# BATCH_SIZE = 10\n",
    "# _current = 0 \n",
    "# for batch_start, batch_stop in zip(np.arange(0,X.shape[1],BATCH_SIZE),np.arange(BATCH_SIZE,X.shape[1],BATCH_SIZE)):\n",
    "#     # print(batch_start,batch_stop)\n",
    "#     X_data = X[:,batch_start:batch_stop]\n",
    "#     # _current = batch\n",
    "#     # print(X_data.shape)"
   ]
  },
  {
   "cell_type": "code",
   "execution_count": 8,
   "metadata": {},
   "outputs": [],
   "source": [
    "def relu(z: npt.ArrayLike) -> npt.ArrayLike:\n",
    "    \"\"\"\n",
    "    Rectified Linear Unit function.\n",
    "    \"\"\"\n",
    "    return np.array([np.max([0,i]) for i in z])\n",
    "\n",
    "def softmax(z: npt.ArrayLike) -> npt.ArrayLike:\n",
    "    \"\"\"\n",
    "    Softmax function.\n",
    "    \"\"\"\n",
    "    assert type(z) == np.ndarray\n",
    "    return np.exp(z.T) / np.sum(np.exp(z))\n",
    "\n",
    "def relu_prime(z: npt.ArrayLike) -> npt.ArrayLike:\n",
    "    \"\"\"\n",
    "    First derivative of ReLU function.\n",
    "    \"\"\"\n",
    "    return np.array([1 if i > 0 else 0 for i in z])\n",
    "\n",
    "# def cross_entropy_loss(y_true, y_pred):\n",
    "#     \"\"\"\n",
    "#     Cross-Entropy Loss\n",
    "#     \"\"\"\n",
    "#     epsilon = 1e-15\n",
    "#     y_pred = np.clip(y_pred, epsilon, 1 - epsilon)\n",
    "#     return -np.sum(y_true * np.log(y_pred)) / len(y_true)"
   ]
  },
  {
   "cell_type": "code",
   "execution_count": 134,
   "metadata": {},
   "outputs": [],
   "source": [
    "# a = np.array([relu(i) for i in z])\n",
    "# a.shape"
   ]
  },
  {
   "cell_type": "code",
   "execution_count": 135,
   "metadata": {},
   "outputs": [],
   "source": [
    "# y.shape"
   ]
  },
  {
   "cell_type": "code",
   "execution_count": 136,
   "metadata": {},
   "outputs": [],
   "source": [
    "# output_weights = np.random.uniform(-1,1,(a.shape[0],y.shape[0]))\n",
    "# output_weights.shape"
   ]
  },
  {
   "cell_type": "code",
   "execution_count": 137,
   "metadata": {},
   "outputs": [],
   "source": [
    "# z_out = np.matmul(output_weights.T,a)\n",
    "# z_out.shape"
   ]
  },
  {
   "cell_type": "code",
   "execution_count": 138,
   "metadata": {},
   "outputs": [],
   "source": [
    "# a_out = np.array([softmax(node) for node in z_out.T]).T\n",
    "# a_out.shape"
   ]
  },
  {
   "cell_type": "code",
   "execution_count": 200,
   "metadata": {},
   "outputs": [],
   "source": [
    "def forward(X: npt.ArrayLike) -> npt.ArrayLike:\n",
    "    \"\"\"\n",
    "    Forward pass with X as input matrix, returning the model prediction\n",
    "    Y_hat.\n",
    "    \"\"\"\n",
    "    try:\n",
    "        bias = np.ones(shape=X.shape[1]).reshape(1,X.shape[1])\n",
    "        X = np.append(bias,X,axis=0)\n",
    "        # print(f\"Shape of Input Matrix : {X.shape}\")\n",
    "        z_internal: npt.ArrayLike = np.matmul(internal_weights.T,X)\n",
    "        # print(f\"Shape of internal weights : {z_internal.shape}\")\n",
    "        a_internal: npt.ArrayLike = np.array([relu(node) for node in z_internal])\n",
    "        # print(a_internal.shape)\n",
    "        z_output: npt.ArrayLike = np.matmul(output_weights.T,a_internal)\n",
    "        # print(f\"Shape of output weights : {z_output.shape}\")\n",
    "        a_output: npt.ArrayLike = np.array([softmax(node) for node in z_output.T]).T\n",
    "        # print(a_output.shape)\n",
    "        \n",
    "    except IndexError:\n",
    "        bias = [1]\n",
    "        X = np.append(bias,X,axis=0)\n",
    "        # print(f\"Shape of Input Matrix : {X.shape}\")\n",
    "        z_internal: npt.ArrayLike = np.matmul(internal_weights.T,X)\n",
    "        # print(f\"Shape of internal weights : {z_internal.shape}\")\n",
    "        a_internal: npt.ArrayLike = relu(z_internal)\n",
    "        # print(a_internal.shape)\n",
    "        z_output: npt.ArrayLike = np.matmul(output_weights.T,a_internal)\n",
    "        # print(f\"Shape of output weights : {z_output.shape}\")\n",
    "        a_output: npt.ArrayLike = softmax(z_output)\n",
    "        # print(a_output.shape)\n",
    "    \n",
    "    return X, z_internal, a_internal, z_output, a_output"
   ]
  },
  {
   "cell_type": "code",
   "execution_count": 140,
   "metadata": {},
   "outputs": [],
   "source": [
    "# X_w_bias, z_internal, a_internal, z_output, a_output = forward(X)"
   ]
  },
  {
   "cell_type": "code",
   "execution_count": 141,
   "metadata": {},
   "outputs": [
    {
     "name": "stdout",
     "output_type": "stream",
     "text": [
      "Shape of Input Matrix : (288, 1000)\n",
      "Shape of internal weights : (150, 1000)\n",
      "Shape of output weights : (7, 1000)\n"
     ]
    }
   ],
   "source": [
    "X_w_bias, z_internal, a_internal, z_output, a_output = forward(X)"
   ]
  },
  {
   "cell_type": "code",
   "execution_count": 142,
   "metadata": {},
   "outputs": [],
   "source": [
    "# max_index = np.argmax(a_output,axis=0)\n",
    "# prediction = np.zeros(shape=a_output.shape)\n",
    "# for i in range(len(max_index)):\n",
    "#     prediction[max_index[i],i] = 1"
   ]
  },
  {
   "cell_type": "code",
   "execution_count": 143,
   "metadata": {},
   "outputs": [],
   "source": [
    "# try:\n",
    "#     prediction = np.zeros(shape=(a_output.shape[0],a_output.shape[1]))\n",
    "#     max_index = np.argmax(a_output,axis=0)\n",
    "#     for i in range(len(max_index)):\n",
    "#         prediction[max_index[i],i] = 1\n",
    "# except IndexError:\n",
    "#     prediction = np.zeros(shape=a_output.shape[0])\n",
    "#     prediction[a_output.argmax()] = 1\n",
    "#     prediction"
   ]
  },
  {
   "cell_type": "code",
   "execution_count": 201,
   "metadata": {},
   "outputs": [],
   "source": [
    "def predict(X: npt.ArrayLike) -> npt.ArrayLike:\n",
    "        \"\"\"\n",
    "        Create a prediction matrix with `self.forward()`\n",
    "        \"\"\"\n",
    "        _, _, _, _, a_output = forward(X)\n",
    "        \n",
    "        try:\n",
    "            prediction = np.zeros(shape=(a_output.shape[0],a_output.shape[1]))\n",
    "            max_index = np.argmax(a_output,axis=0)\n",
    "            for i in range(len(max_index)):\n",
    "                prediction[max_index[i],i] = 1\n",
    "        except IndexError:\n",
    "            prediction = np.zeros(shape=a_output.shape[0])\n",
    "            prediction[a_output.argmax()] = 1\n",
    "        \n",
    "        # print(f\"Shape of prediction matrix : {prediction.shape}\")\n",
    "        return prediction"
   ]
  },
  {
   "cell_type": "code",
   "execution_count": 145,
   "metadata": {},
   "outputs": [
    {
     "name": "stdout",
     "output_type": "stream",
     "text": [
      "Shape of Input Matrix : (288, 10)\n",
      "Shape of internal weights : (150, 10)\n",
      "Shape of output weights : (7, 10)\n",
      "Shape of prediction matrix : (7, 10)\n"
     ]
    },
    {
     "data": {
      "text/plain": [
       "array([[0., 1., 0., 0., 0., 0., 0., 0., 0., 0.],\n",
       "       [0., 0., 0., 0., 1., 0., 1., 0., 0., 0.],\n",
       "       [0., 0., 0., 0., 0., 0., 0., 0., 0., 0.],\n",
       "       [1., 0., 1., 1., 0., 1., 0., 1., 1., 1.],\n",
       "       [0., 0., 0., 0., 0., 0., 0., 0., 0., 0.],\n",
       "       [0., 0., 0., 0., 0., 0., 0., 0., 0., 0.],\n",
       "       [0., 0., 0., 0., 0., 0., 0., 0., 0., 0.]])"
      ]
     },
     "execution_count": 145,
     "metadata": {},
     "output_type": "execute_result"
    }
   ],
   "source": [
    "predict(X[:,:10])"
   ]
  },
  {
   "cell_type": "code",
   "execution_count": 159,
   "metadata": {},
   "outputs": [],
   "source": [
    "input_size = 288\n",
    "hidden_size = 150  # Number of neurons in the hidden layer\n",
    "output_size = 7  # Number of classes\n",
    "learning_rate = 0.005\n",
    "\n",
    "# batch_size = 1000\n",
    "# cross_entropy_delta = np.subtract(a_output, y)  # Derivative of softmax with cross-entropy loss\n",
    "# dW2 = np.matmul(a_internal, cross_entropy_delta.T)\n",
    "# dW2.shape\n",
    "\n",
    "# output_weights.shape\n",
    "\n",
    "\n",
    "# dz1 = np.matmul(output_weights,cross_entropy_delta) * np.array([relu_prime(z) for z in z_internal.T]).T\n",
    "# dW1 = np.dot(X_w_bias,dz1.T) / batch_size\n",
    "\n",
    "# # Update weights and biases\n",
    "# output_weights -= learning_rate * dW2\n",
    "# internal_weights -= learning_rate * dW1\n",
    "\n"
   ]
  },
  {
   "cell_type": "code",
   "execution_count": 147,
   "metadata": {},
   "outputs": [
    {
     "name": "stdout",
     "output_type": "stream",
     "text": [
      "-0.0222381700476624\n",
      "-0.0008302572176805077\n"
     ]
    }
   ],
   "source": [
    "print(np.mean(output_weights))\n",
    "print(np.mean(internal_weights))"
   ]
  },
  {
   "cell_type": "code",
   "execution_count": 250,
   "metadata": {},
   "outputs": [],
   "source": [
    "def backward(\n",
    "        X: npt.ArrayLike, \n",
    "        Y: npt.ArrayLike,\n",
    "        internal_weights,\n",
    "        output_weights,\n",
    "        learning_rate,\n",
    "    ):\n",
    "        \"\"\"\n",
    "        Backpropagation algorithm.\n",
    "        \"\"\"\n",
    "        try:\n",
    "            batch_size = X.shape[1]\n",
    "            X_w_bias, z_internal, a_internal, z_output, a_output = forward(X)\n",
    "            # prediction_matrix = predict(X)\n",
    "            \n",
    "            loss = cross_entropy_loss(Y, a_output)\n",
    "            cross_entropy_delta = np.subtract(a_output, Y)  # Derivative of softmax with cross-entropy loss\n",
    "            \n",
    "            grad_output_layer = np.matmul(a_internal.T, cross_entropy_delta) / batch_size\n",
    "            grad_hidden_input = np.matmul(output_weights,cross_entropy_delta) * np.array([relu_prime(z) for z in z_internal.T]).T\n",
    "            grad_hidden_layer = np.dot(X_w_bias,grad_hidden_input.T) / batch_size\n",
    "            \n",
    "            output_weights -= learning_rate * grad_output_layer\n",
    "            internal_weights -= learning_rate * grad_hidden_layer\n",
    "        \n",
    "        except IndexError:\n",
    "            X_w_bias, z_internal, a_internal, z_output, a_output = forward(X)\n",
    "            # prediction_matrix = predict(X)\n",
    "            \n",
    "            loss = cross_entropy_loss(Y, a_output)\n",
    "            cross_entropy_delta = np.subtract(a_output, Y)  # Derivative of softmax with cross-entropy loss\n",
    "            \n",
    "            grad_output_layer = np.matmul(a_internal.reshape(hidden_size,1), cross_entropy_delta.reshape(output_size,1).T)\n",
    "            grad_hidden_input = np.matmul(output_weights,cross_entropy_delta) * relu_prime(z_internal)\n",
    "            grad_hidden_layer = np.dot(X_w_bias.reshape(input_size,1),grad_hidden_input.reshape(hidden_size,1).T)  \n",
    "                      \n",
    "            output_weights -= learning_rate * grad_output_layer\n",
    "            internal_weights -= learning_rate * grad_hidden_layer\n",
    "        \n",
    "        return loss, internal_weights, output_weights "
   ]
  },
  {
   "cell_type": "code",
   "execution_count": 252,
   "metadata": {},
   "outputs": [],
   "source": [
    "# np.random.seed(42)\n",
    "# internal_weights = np.random.uniform(low = -1.0,\n",
    "#                                     high = 1.0,\n",
    "#                                     size = (288,150),\n",
    "#                                     )\n",
    "# output_weights = np.random.uniform(low = -1,\n",
    "#                                         high = 1,\n",
    "#                                         size = (150,7)\n",
    "#                                         )\n",
    "# for i in range(1000):\n",
    "#     loss, internal_weights, output_weights = backward(X[:,i],y[:,i],internal_weights,output_weights,0.005)"
   ]
  },
  {
   "cell_type": "code",
   "execution_count": 253,
   "metadata": {},
   "outputs": [],
   "source": [
    "# predict(X[:,32:42])"
   ]
  },
  {
   "cell_type": "code",
   "execution_count": 254,
   "metadata": {},
   "outputs": [],
   "source": [
    "# y[:,32:42]"
   ]
  },
  {
   "cell_type": "code",
   "execution_count": 232,
   "metadata": {},
   "outputs": [],
   "source": [
    "# internal_weights = np.random.uniform(low = -1.0,\n",
    "#                                     high = 1.0,\n",
    "#                                     size = (288,150),\n",
    "#                                     )\n",
    "# output_weights = np.random.uniform(low = -1,\n",
    "#                                         high = 1,\n",
    "#                                         size = (150,7)\n",
    "#                                         )\n",
    "# X_w_bias, z_internal, a_internal, z_output, a_output = forward(X[:,0])\n",
    "# # prediction_matrix = predict(X)\n",
    "\n",
    "# loss = cross_entropy_loss(y[:,0], a_output)\n",
    "# cross_entropy_delta = np.subtract(a_output, y[:,0])  # Derivative of softmax with cross-entropy loss\n",
    "# dW2 = np.matmul(a_internal.reshape(hidden_size,1), cross_entropy_delta.reshape(output_size,1).T)\n",
    "\n",
    "# np.matmul(output_weights,cross_entropy_delta) * relu_prime(z_internal)\n",
    "\n",
    "# dz1 = np.matmul(output_weights,cross_entropy_delta) * relu_prime(z_internal)\n",
    "# dW1 = np.dot(X_w_bias.reshape(input_size,1),dz1.reshape(hidden_size,1).T)            "
   ]
  },
  {
   "cell_type": "code",
   "execution_count": 394,
   "metadata": {},
   "outputs": [],
   "source": [
    "class NeuralNetwork(object):\n",
    "    def __init__(\n",
    "        self, \n",
    "        input_size: int,\n",
    "        hidden_size: int, \n",
    "        num_classes: int,\n",
    "        random_seed: int = 42,\n",
    "        learning_rate: float = 0.005,\n",
    "    ):\n",
    "        \"\"\"\n",
    "        Initialize neural network's weights and biases.\n",
    "        \"\"\"\n",
    "        self.input_size = input_size\n",
    "        self.hidden_size = hidden_size\n",
    "        self.output_size = num_classes\n",
    "        self.num_classes = num_classes\n",
    "        self.learning_rate = learning_rate\n",
    "        \n",
    "        np.random.seed(random_seed)\n",
    "        self.internal_weights = np.random.uniform(low = -1.0,\n",
    "                                         high = 1.0,\n",
    "                                         size = (input_size,hidden_size),\n",
    "                                         )\n",
    "        self.output_weights = np.random.uniform(low = -1,\n",
    "                                                high = 1,\n",
    "                                                size = (hidden_size,num_classes)\n",
    "                                                )\n",
    "        \n",
    "    def forward(self,\n",
    "                X: npt.ArrayLike\n",
    "                )-> Tuple[npt.ArrayLike, npt.ArrayLike, npt.ArrayLike, npt.ArrayLike, npt.ArrayLike]:\n",
    "        \"\"\"\n",
    "        Forward pass with X as input matrix, returning the self prediction\n",
    "        Y_hat.\n",
    "        \"\"\"\n",
    "        try:\n",
    "            bias = np.ones(shape=X.shape[1]).reshape(1,X.shape[1])\n",
    "            X = np.append(bias,X,axis=0)\n",
    "            # print(f\"Shape of Input Matrix : {X.shape}\")\n",
    "            z_internal: npt.ArrayLike = np.matmul(self.internal_weights.T,X)\n",
    "            # print(f\"Shape of internal weights : {z_internal.shape}\")\n",
    "            a_internal: npt.ArrayLike = np.array([relu(node) for node in z_internal])\n",
    "            # print(a_internal.shape)\n",
    "            z_output: npt.ArrayLike = np.matmul(self.output_weights.T,a_internal)\n",
    "            # print(f\"Shape of output weights : {z_output.shape}\")\n",
    "            a_output: npt.ArrayLike = np.array([softmax(node) for node in z_output.T]).T\n",
    "            # print(a_output.shape)\n",
    "            \n",
    "        except IndexError:\n",
    "            bias = [1]\n",
    "            X = np.append(bias,X,axis=0)\n",
    "            # print(f\"Shape of Input Matrix : {X.shape}\")\n",
    "            z_internal: npt.ArrayLike = np.matmul(self.internal_weights.T,X)\n",
    "            # print(f\"Shape of internal weights : {z_internal.shape}\")\n",
    "            a_internal: npt.ArrayLike = relu(z_internal)\n",
    "            # print(a_internal.shape)\n",
    "            z_output: npt.ArrayLike = np.matmul(self.output_weights.T,a_internal)\n",
    "            # print(f\"Shape of output weights : {z_output.shape}\")\n",
    "            a_output: npt.ArrayLike = softmax(z_output.reshape(z_output.shape[0],1))\n",
    "            # print(a_output.shape)\n",
    "        \n",
    "        return X, z_internal, a_internal, z_output, a_output\n",
    "\n",
    "    def predict(self, X: npt.ArrayLike) -> npt.ArrayLike:\n",
    "        \"\"\"\n",
    "        Create a prediction matrix with `self.forward()`\n",
    "        \"\"\"\n",
    "        try:\n",
    "            prediction = []\n",
    "            for i in range(X.shape[1]):\n",
    "                _, _, _, _, a_output = self.forward(X[:,i])\n",
    "                prediction_int = np.zeros(shape=a_output.shape[1])\n",
    "                prediction_int[a_output.argmax()] = 1\n",
    "                prediction.append(list(prediction_int))\n",
    "            prediction = np.array(prediction).T\n",
    "        except IndexError:\n",
    "            _, _, _, _, a_output = self.forward(X)\n",
    "            prediction = np.zeros(shape=a_output.shape[0])\n",
    "            prediction[a_output.argmax()] = 1\n",
    "        \n",
    "        # print(prediction.shape)\n",
    "        return prediction\n",
    "\n",
    "    def backward(\n",
    "        self, \n",
    "        X: npt.ArrayLike, \n",
    "        Y: npt.ArrayLike\n",
    "    ) -> Tuple[npt.ArrayLike, npt.ArrayLike, npt.ArrayLike, npt.ArrayLike]:\n",
    "        \"\"\"\n",
    "        Backpropagation algorithm.\n",
    "        \"\"\"\n",
    "        try:\n",
    "            batch_size = X.shape[1]\n",
    "            X_bias, z_internal, a_internal, _, a_output = self.forward(X)\n",
    "\n",
    "            cross_entropy_delta = np.subtract(a_output, Y)  # Derivative of softmax with cross-entropy loss\n",
    "            grad_output_layer = np.matmul(a_internal.T, cross_entropy_delta) / batch_size\n",
    "            grad_hidden_input = np.matmul(self.output_weights,cross_entropy_delta) * np.array([relu_prime(z) for z in z_internal.T]).T\n",
    "            grad_hidden_layer = np.dot(X_bias,grad_hidden_input.T) / batch_size\n",
    "        \n",
    "        except IndexError:\n",
    "            X_bias, z_internal, a_internal, _, a_output = self.forward(X)\n",
    "            Y = Y.reshape(self.output_size,1)\n",
    "            z_internal = z_internal.reshape(self.hidden_size,1)\n",
    "            a_internal = a_internal.reshape(self.hidden_size,1)\n",
    "            \n",
    "            cross_entropy_delta = np.subtract(a_output, Y)  # Derivative of softmax with cross-entropy loss\n",
    "            grad_output_layer = np.matmul(a_internal, cross_entropy_delta.T)\n",
    "            grad_hidden_input = np.matmul(self.output_weights,cross_entropy_delta) * relu_prime(z_internal).reshape(self.hidden_size,1)\n",
    "            grad_hidden_layer = np.dot(X_bias.reshape(self.input_size,1),grad_hidden_input.reshape(self.hidden_size,1).T)  \n",
    "            \n",
    "        return grad_hidden_layer, grad_output_layer\n",
    "    \n",
    "    def batch_train(self, X, Y, train_flag=False):\n",
    "        prediction = self.predict(X)\n",
    "        hits = np.sum([np.array_equal(prediction[:,i],Y[:,i]) for i in range(X.shape[1])])\n",
    "        print(f\"Accuracy of self : {hits*100/X.shape[1]} %\")\n",
    "        \n",
    "        if train_flag:\n",
    "            loss_list = []\n",
    "            accuracy_list =[]\n",
    "            for i in range(X.shape[1]):\n",
    "                grad_hidden_layer, grad_output_layer = self.backward(X[:,i],Y[:,i])\n",
    "                self.internal_weights -= self.learning_rate * grad_hidden_layer\n",
    "                self.output_weights -= self.learning_rate * grad_output_layer\n",
    "                # prediction = self.predict(X)\n",
    "                # loss_list.append(compute_loss(prediction,Y))\n",
    "                if i%25 == 0:\n",
    "                    print(f\"Inputs processed : {i}\")\n",
    "                    prediction = self.predict(X)\n",
    "                    hits = np.sum([np.array_equal(prediction[:,i],Y[:,i]) for i in range(X.shape[1])])\n",
    "                    loss_list.append(compute_loss(prediction,Y))\n",
    "                    accuracy_list.append(hits*100/1000)\n",
    "                    print(f\"Current loss : {compute_loss(prediction,Y)} \\nCurrent Accuracy : {hits*100/X.shape[1]} %\")\n",
    "                        \n",
    "            prediction = self.predict(X)\n",
    "            hits = np.sum([np.array_equal(prediction[:,i],Y[:,i]) for i in range(X.shape[1])])\n",
    "            print(f\"Accuracy of self : {hits*100/X.shape[1]} %\")\n",
    "            \n",
    "            plt.style.use(\"seaborn\")\n",
    "            fig,ax = plt.subplots(nrows=2,ncols=1,figsize=(15,10),sharex=True)\n",
    "            ax[0].plot(range(1,X.shape[1]+1,25),loss_list,\"k-\",linewidth=2)\n",
    "            ax[1].plot(range(1,X.shape[1]+1,25),accuracy_list,\"r-\",linewidth=2)\n",
    "            plt.xlabel(\"Iteration\",fontdict={\"size\":14,\"weight\":\"bold\"})\n",
    "            ax[0].set_ylabel(\"Cost Function\",fontdict={\"size\":14,\"weight\":\"bold\"})\n",
    "            ax[1].set_ylabel(\"Accuracy\",fontdict={\"size\":14,\"weight\":\"bold\"})\n",
    "            plt.xticks(range(X.shape[1]+1)[::100])\n",
    "            fig.tight_layout()\n",
    "            fig.savefig(\"./images/Cost_Function_Training.jpeg\",dpi=300)\n",
    "            print(\"Image saved at : ./images/Cost_Function_Training.jpeg\")\n",
    "\n",
    "\n",
    "def compute_loss(pred: npt.ArrayLike, truth: npt.ArrayLike) -> float:\n",
    "    \"\"\"\n",
    "    Compute the cross entropy loss.\n",
    "    \"\"\"\n",
    "    epsilon = 1e-15\n",
    "    y_pred = np.clip(pred, epsilon, 1 - epsilon)\n",
    "    \n",
    "    return -np.mean(np.sum(truth * np.log(y_pred),axis=0)) / len(truth)"
   ]
  },
  {
   "cell_type": "code",
   "execution_count": 395,
   "metadata": {},
   "outputs": [],
   "source": [
    "model = NeuralNetwork(input_size=X.shape[0]+1,\n",
    "                          hidden_size=150,\n",
    "                          num_classes=y.shape[0])"
   ]
  },
  {
   "cell_type": "code",
   "execution_count": 396,
   "metadata": {},
   "outputs": [
    {
     "name": "stdout",
     "output_type": "stream",
     "text": [
      "Accuracy of model : 18.2 %\n"
     ]
    }
   ],
   "source": [
    "prediction = model.predict(X)\n",
    "hits = np.sum([np.array_equal(prediction[:,i],y[:,i]) for i in range(1000)])\n",
    "print(f\"Accuracy of model : {hits*100/1000} %\")"
   ]
  },
  {
   "cell_type": "code",
   "execution_count": 391,
   "metadata": {},
   "outputs": [
    {
     "name": "stdout",
     "output_type": "stream",
     "text": [
      "Inputs processed : 0\n",
      "Current loss : 4.07557561459946 Current Accuracy : 17.4 %\n",
      "Inputs processed : 25\n",
      "Current loss : 4.055839170945225 Current Accuracy : 17.8 %\n",
      "Inputs processed : 50\n",
      "Current loss : 3.6759126306012075 Current Accuracy : 25.5 %\n",
      "Inputs processed : 75\n",
      "Current loss : 3.8683429562299954 Current Accuracy : 21.6 %\n",
      "Inputs processed : 100\n",
      "Current loss : 3.4933505267995373 Current Accuracy : 29.2 %\n",
      "Inputs processed : 125\n",
      "Current loss : 3.547625746848682 Current Accuracy : 28.1 %\n",
      "Inputs processed : 150\n",
      "Current loss : 3.172633317418224 Current Accuracy : 35.7 %\n",
      "Inputs processed : 175\n",
      "Current loss : 3.167699206504665 Current Accuracy : 35.8 %\n",
      "Inputs processed : 200\n",
      "Current loss : 3.1874356501589 Current Accuracy : 35.4 %\n",
      "Inputs processed : 225\n",
      "Current loss : 2.7482997788521786 Current Accuracy : 44.3 %\n",
      "Inputs processed : 250\n",
      "Current loss : 2.6249470060132123 Current Accuracy : 46.8 %\n",
      "Inputs processed : 275\n",
      "Current loss : 2.565737675050508 Current Accuracy : 48.0 %\n",
      "Inputs processed : 300\n",
      "Current loss : 2.3881096821623955 Current Accuracy : 51.6 %\n",
      "Inputs processed : 325\n",
      "Current loss : 2.3091639075454573 Current Accuracy : 53.2 %\n",
      "Inputs processed : 350\n",
      "Current loss : 2.180877023792932 Current Accuracy : 55.8 %\n",
      "Inputs processed : 375\n",
      "Current loss : 2.1956793565336077 Current Accuracy : 55.5 %\n",
      "Inputs processed : 400\n",
      "Current loss : 2.1611405801386967 Current Accuracy : 56.2 %\n",
      "Inputs processed : 425\n",
      "Current loss : 2.249954576582753 Current Accuracy : 54.4 %\n",
      "Inputs processed : 450\n",
      "Current loss : 2.166074691052256 Current Accuracy : 56.1 %\n",
      "Inputs processed : 475\n",
      "Current loss : 2.00324903090482 Current Accuracy : 59.4 %\n",
      "Inputs processed : 500\n",
      "Current loss : 1.8404233707573834 Current Accuracy : 62.7 %\n",
      "Inputs processed : 525\n",
      "Current loss : 1.865093925325177 Current Accuracy : 62.2 %\n",
      "Inputs processed : 550\n",
      "Current loss : 1.9884466981641438 Current Accuracy : 59.7 %\n",
      "Inputs processed : 575\n",
      "Current loss : 1.894698590806529 Current Accuracy : 61.6 %\n",
      "Inputs processed : 600\n",
      "Current loss : 1.8601598144116185 Current Accuracy : 62.3 %\n",
      "Inputs processed : 625\n",
      "Current loss : 1.7516093743133274 Current Accuracy : 64.5 %\n",
      "Inputs processed : 650\n",
      "Current loss : 1.638124823301478 Current Accuracy : 66.8 %\n",
      "Inputs processed : 675\n",
      "Current loss : 1.6035860469065675 Current Accuracy : 67.5 %\n",
      "Inputs processed : 700\n",
      "Current loss : 1.5147720504625115 Current Accuracy : 69.3 %\n",
      "Inputs processed : 725\n",
      "Current loss : 1.3963533885371036 Current Accuracy : 71.7 %\n",
      "Inputs processed : 750\n",
      "Current loss : 1.3618146121421926 Current Accuracy : 72.4 %\n",
      "Inputs processed : 775\n",
      "Current loss : 1.322341724833723 Current Accuracy : 73.2 %\n",
      "Inputs processed : 800\n",
      "Current loss : 1.3371440575743991 Current Accuracy : 72.9 %\n",
      "Inputs processed : 825\n",
      "Current loss : 1.3470122794015167 Current Accuracy : 72.7 %\n",
      "Inputs processed : 850\n",
      "Current loss : 1.292737059352371 Current Accuracy : 73.8 %\n",
      "Inputs processed : 875\n",
      "Current loss : 1.2779347266116954 Current Accuracy : 74.1 %\n",
      "Inputs processed : 900\n",
      "Current loss : 1.2878029484388125 Current Accuracy : 73.9 %\n",
      "Inputs processed : 925\n",
      "Current loss : 1.1101749555507006 Current Accuracy : 77.5 %\n",
      "Inputs processed : 950\n",
      "Current loss : 1.159516064686287 Current Accuracy : 76.5 %\n",
      "Inputs processed : 975\n",
      "Current loss : 1.0657679573286727 Current Accuracy : 78.4 %\n"
     ]
    }
   ],
   "source": [
    "loss_list = []\n",
    "accuracy_list = []\n",
    "for i in range(X.shape[1]):\n",
    "    grad_hidden_layer, grad_output_layer = model.backward(X[:,i],y[:,i])\n",
    "    model.internal_weights -= model.learning_rate * grad_hidden_layer\n",
    "    model.output_weights -= model.learning_rate * grad_output_layer\n",
    "    # prediction = model.predict(X)\n",
    "    # loss_list.append(compute_loss(prediction,y))\n",
    "    if i%25 == 0:\n",
    "        print(f\"Inputs processed : {i}\")\n",
    "        prediction = model.predict(X)\n",
    "        hits = np.sum([np.array_equal(prediction[:,i],y[:,i]) for i in range(1000)])\n",
    "        loss_list.append(compute_loss(prediction,y))\n",
    "        accuracy_list.append(hits*100/1000)\n",
    "        print(f\"Current loss : {compute_loss(prediction,y)} \\nCurrent Accuracy : {hits*100/1000} %\")"
   ]
  },
  {
   "cell_type": "code",
   "execution_count": 392,
   "metadata": {},
   "outputs": [],
   "source": [
    "import matplotlib.pyplot as plt"
   ]
  },
  {
   "cell_type": "code",
   "execution_count": 393,
   "metadata": {},
   "outputs": [
    {
     "data": {
      "image/png": "[encoded data removed]",
      "text/plain": [
       "<Figure size 1080x360 with 1 Axes>"
      ]
     },
     "metadata": {},
     "output_type": "display_data"
    }
   ],
   "source": [
    "plt.style.use(\"seaborn\")\n",
    "plt.figure(figsize=(15,5))\n",
    "plt.plot(range(1,X.shape[1]+1,25),loss_list,\"k-\",linewidth=2);\n",
    "plt.xlabel(\"Iteration\",fontdict={\"size\":14,\"weight\":\"bold\"});\n",
    "plt.ylabel(\"Cost Function\",fontdict={\"size\":14,\"weight\":\"bold\"});\n",
    "plt.xticks(range(X.shape[1]+1)[::100]);"
   ]
  },
  {
   "cell_type": "code",
   "execution_count": 339,
   "metadata": {},
   "outputs": [],
   "source": [
    "# prediction = model.predict(X)\n",
    "# prediction.shape"
   ]
  },
  {
   "cell_type": "code",
   "execution_count": 340,
   "metadata": {},
   "outputs": [],
   "source": [
    "# acc = 0\n",
    "# for i in range(1000):\n",
    "#     if np.array_equal(prediction[:,i],y[:,i]):\n",
    "#         acc += 1\n",
    "# acc/1000"
   ]
  },
  {
   "cell_type": "code",
   "execution_count": 341,
   "metadata": {},
   "outputs": [],
   "source": [
    "# compute_loss(prediction,y)"
   ]
  },
  {
   "cell_type": "code",
   "execution_count": 342,
   "metadata": {},
   "outputs": [],
   "source": [
    "# final_pred = []\n",
    "\n",
    "# for i in range(X.shape[1]):\n",
    "#     _, _, _, _, a_output = forward(X[:,i])\n",
    "#     prediction = np.zeros(shape=a_output.shape[0])\n",
    "#     prediction[a_output.argmax()] = 1\n",
    "#     final_pred.append(list(prediction))"
   ]
  },
  {
   "cell_type": "code",
   "execution_count": 343,
   "metadata": {},
   "outputs": [],
   "source": [
    "# prediction"
   ]
  },
  {
   "cell_type": "code",
   "execution_count": 344,
   "metadata": {},
   "outputs": [],
   "source": [
    "# np.array(final_pred).T[:,0]"
   ]
  },
  {
   "cell_type": "code",
   "execution_count": 345,
   "metadata": {},
   "outputs": [],
   "source": [
    "def batch_train(X, Y, model, train_flag=False):\n",
    "    prediction = model.predict(X)\n",
    "    acc = 0\n",
    "    for i in range(1000):\n",
    "        if np.array_equal(prediction[:,i],Y[:,i]):\n",
    "            acc += 1\n",
    "    print(f\"Accuracy of model : {acc*100/1000} %\")\n",
    "    \n",
    "    if train_flag:\n",
    "        loss_list = []\n",
    "        for i in range(X.shape[1]):\n",
    "            grad_hidden_layer, grad_output_layer = model.backward(X[:,i],Y[:,i])\n",
    "            model.internal_weights -= model.learning_rate * grad_hidden_layer\n",
    "            model.output_weights -= model.learning_rate * grad_output_layer\n",
    "            prediction = model.predict(X)\n",
    "            loss_list.append(compute_loss(prediction,Y))\n",
    "            if i%25 == 0:\n",
    "                print(f\"Inputs processed : {i}\")\n",
    "            \n",
    "        prediction = model.predict(X)\n",
    "        acc = 0\n",
    "        for i in range(1000):\n",
    "            if np.array_equal(prediction[:,i],Y[:,i]):\n",
    "                acc += 1\n",
    "        print(f\"Accuracy of model : {acc*100/1000} %\")\n",
    "        \n",
    "        plt.style.use(\"seaborn\")\n",
    "        plt.figure(figsize=(15,5))\n",
    "        plt.plot(range(1,X.shape[1]+1),loss_list,\"k-\",linewidth=2);\n",
    "        plt.xlabel(\"Iteration\",fontdict={\"size\":14,\"weight\":\"bold\"});\n",
    "        plt.ylabel(\"Cost Function\",fontdict={\"size\":14,\"weight\":\"bold\"});\n",
    "        plt.xticks(range(X.shape[1]+1)[::100]);\n",
    "        plt.savefig(\"./images/Cost_Function_Training.jpeg\",dpi=300)\n",
    "        print(\"Image saved at : ./images/Cost_Function_Training.jpeg\")"
   ]
  },
  {
   "cell_type": "code",
   "execution_count": 346,
   "metadata": {},
   "outputs": [],
   "source": [
    "model = NeuralNetwork(input_size=X.shape[0]+1,\n",
    "                          hidden_size=150,\n",
    "                          num_classes=y.shape[0])"
   ]
  },
  {
   "cell_type": "code",
   "execution_count": 347,
   "metadata": {},
   "outputs": [
    {
     "name": "stdout",
     "output_type": "stream",
     "text": [
      "Accuracy of model : 18.2 %\n"
     ]
    }
   ],
   "source": [
    "batch_train(X, y, model, train_flag=False)"
   ]
  },
  {
   "cell_type": "code",
   "execution_count": 348,
   "metadata": {},
   "outputs": [],
   "source": [
    "grad_hidd_layer, grad_out_layer = model.backward(X[:,0],y[:,0])"
   ]
  },
  {
   "cell_type": "code",
   "execution_count": 350,
   "metadata": {},
   "outputs": [
    {
     "data": {
      "text/plain": [
       "(150, 7)"
      ]
     },
     "execution_count": 350,
     "metadata": {},
     "output_type": "execute_result"
    }
   ],
   "source": [
    "grad_out_layer.shape"
   ]
  },
  {
   "cell_type": "code",
   "execution_count": 351,
   "metadata": {},
   "outputs": [],
   "source": [
    "X_bias, z_internal, a_internal, _, a_output = model.forward(X[:,0])"
   ]
  },
  {
   "cell_type": "code",
   "execution_count": 354,
   "metadata": {},
   "outputs": [
    {
     "data": {
      "text/plain": [
       "(7,)"
      ]
     },
     "execution_count": 354,
     "metadata": {},
     "output_type": "execute_result"
    }
   ],
   "source": [
    "a_output.shape"
   ]
  },
  {
   "cell_type": "code",
   "execution_count": 355,
   "metadata": {},
   "outputs": [
    {
     "data": {
      "text/plain": [
       "(7,)"
      ]
     },
     "execution_count": 355,
     "metadata": {},
     "output_type": "execute_result"
    }
   ],
   "source": [
    "cross_entropy_delta = np.subtract(a_output, y[:,0])\n",
    "cross_entropy_delta.shape"
   ]
  },
  {
   "cell_type": "code",
   "execution_count": 168,
   "metadata": {},
   "outputs": [],
   "source": [
    "from typing import Tuple\n",
    "import numpy as np\n",
    "import numpy.typing as npt\n",
    "import matplotlib.pyplot as plt\n",
    "\n",
    "def softmax(z: npt.ArrayLike) -> npt.ArrayLike:\n",
    "    \"\"\"\n",
    "    Softmax function.\n",
    "    \"\"\"\n",
    "    return np.divide(np.exp(z),np.sum(np.exp(z),axis=0))\n",
    "\n",
    "def relu(z: npt.ArrayLike) -> npt.ArrayLike:\n",
    "    \"\"\"\n",
    "    Rectified Linear Unit function.\n",
    "    \"\"\"\n",
    "    return np.array([np.max([0,i]) for i in z])\n",
    "\n",
    "# def softmax2(z: npt.ArrayLike) -> npt.ArrayLike:\n",
    "#     \"\"\"\n",
    "#     Softmax function.\n",
    "#     \"\"\"\n",
    "#     return np.exp(z.T) / np.sum(np.exp(z))\n",
    "\n",
    "def relu_prime(z: npt.ArrayLike) -> npt.ArrayLike:\n",
    "    \"\"\"\n",
    "    First derivative of ReLU function.\n",
    "    \"\"\"\n",
    "    return np.array([1 if i > 0 else 0 for i in z])\n",
    "\n",
    "\n",
    "# from typing import Tuple\n",
    "# import numpy as np\n",
    "# import numpy.typing as npt\n",
    "# import matplotlib.pyplot as plt\n",
    "\n",
    "# from model.model_utils import softmax, relu, relu_prime\n",
    "\n",
    "\n",
    "def compute_loss(pred: npt.ArrayLike, truth: npt.ArrayLike) -> float:\n",
    "    \"\"\"\n",
    "    Compute the cross entropy loss.\n",
    "    \"\"\"\n",
    "    epsilon = 1e-15\n",
    "    y_pred = np.clip(pred, epsilon, 1 - epsilon)\n",
    "    \n",
    "    return -np.mean(np.sum(truth * np.log(y_pred),axis=0)) / len(truth)\n",
    "\n",
    "\n",
    "class NeuralNetwork(object):\n",
    "    def __init__(\n",
    "        self, \n",
    "        input_size: int,\n",
    "        hidden_size: int, \n",
    "        num_classes: int,\n",
    "        random_seed: int = 1,\n",
    "        learning_rate: float = 0.005,\n",
    "    ):\n",
    "        \"\"\"\n",
    "        Initialize neural network's weights and biases.\n",
    "        \"\"\"\n",
    "        self.input_size = input_size\n",
    "        self.hidden_size = hidden_size\n",
    "        self.output_size = num_classes\n",
    "        self.num_classes = num_classes\n",
    "        self.learning_rate = learning_rate\n",
    "        \n",
    "        np.random.seed(random_seed)\n",
    "        self.internal_weights = np.random.uniform(low = -1.0,\n",
    "                                         high = 1.0,\n",
    "                                         size = (input_size,hidden_size),\n",
    "                                         )\n",
    "        np.random.seed(random_seed)\n",
    "        self.output_weights = np.random.uniform(low = -1,\n",
    "                                                high = 1,\n",
    "                                                size = (hidden_size,num_classes)\n",
    "                                                )\n",
    "        print(\"------------------Model Initialised------------------\")\n",
    "        \n",
    "    def forward(self,\n",
    "                X: npt.ArrayLike\n",
    "                )-> Tuple[npt.ArrayLike, npt.ArrayLike, npt.ArrayLike, npt.ArrayLike, npt.ArrayLike]:\n",
    "        \"\"\"\n",
    "        Forward pass with X as input matrix, returning the self prediction\n",
    "        Y_hat.\n",
    "        \"\"\"\n",
    "        try:\n",
    "            bias = np.ones(shape=X.shape[1]).reshape(1,X.shape[1])\n",
    "            X = np.append(bias,X,axis=0)\n",
    "            # print(f\"Shape of Input Matrix : {X.shape}\")\n",
    "            z_internal: npt.ArrayLike = np.matmul(self.internal_weights.T,X)\n",
    "            # print(f\"Shape of internal weights : {z_internal.shape}\")\n",
    "            a_internal: npt.ArrayLike = np.array([relu(node) for node in z_internal])\n",
    "            # print(a_internal.shape)\n",
    "            z_output: npt.ArrayLike = np.matmul(self.output_weights.T,a_internal)\n",
    "            print(f\"Shape of output weights : {z_output.shape}\")\n",
    "            a_output: npt.ArrayLike = softmax(z_output)\n",
    "            # print(a_output.shape)\n",
    "            \n",
    "        except IndexError:\n",
    "            bias = [1]\n",
    "            X = np.append(bias,X,axis=0)\n",
    "            # print(f\"Shape of Input Matrix : {X.shape}\")\n",
    "            z_internal: npt.ArrayLike = np.matmul(self.internal_weights.T,X)\n",
    "            # print(f\"Shape of internal weights : {z_internal.shape}\")\n",
    "            a_internal: npt.ArrayLike = relu(z_internal)\n",
    "            # print(a_internal.shape)\n",
    "            z_output: npt.ArrayLike = np.matmul(self.output_weights.T,a_internal)\n",
    "            # print(f\"Shape of output weights : {z_output.shape}\")\n",
    "            a_output: npt.ArrayLike = softmax(z_output)\n",
    "            a_output = a_output.reshape(self.output_size,1)\n",
    "            # print(a_output.shape)\n",
    "        \n",
    "        return X, z_internal, a_internal, z_output, a_output\n",
    "\n",
    "    def predict(self, X: npt.ArrayLike) -> npt.ArrayLike:\n",
    "        \"\"\"\n",
    "        Create a prediction matrix with `self.forward()`\n",
    "        \"\"\"\n",
    "        try:\n",
    "            prediction = []\n",
    "            for i in range(X.shape[1]):\n",
    "                _, _, _, _, a_output = self.forward(X[:,i])\n",
    "                prediction_int = np.zeros(shape=self.output_size)\n",
    "                prediction_int[a_output.argmax()] = 1\n",
    "                prediction.append(list(prediction_int))\n",
    "            prediction = np.array(prediction).T\n",
    "        except IndexError:\n",
    "            _, _, _, _, a_output = self.forward(X)\n",
    "            prediction = np.zeros(shape=(self.output_size,1))\n",
    "            prediction[a_output.argmax()] = 1\n",
    "        \n",
    "        # print(prediction.shape)\n",
    "        return prediction\n",
    "\n",
    "    def backward(\n",
    "        self, \n",
    "        X: npt.ArrayLike, \n",
    "        Y: npt.ArrayLike\n",
    "    ) -> Tuple[npt.ArrayLike, npt.ArrayLike]:\n",
    "        \"\"\"\n",
    "        Backpropagation algorithm.\n",
    "        \"\"\"\n",
    "        try:\n",
    "            batch_size = X.shape[1]\n",
    "            X_bias, z_internal, a_internal, _, a_output = self.forward(X)\n",
    "            \n",
    "            loss = compute_loss(a_output,Y)\n",
    "\n",
    "            cross_entropy_delta = np.subtract(a_output, Y)  # Derivative of softmax with cross-entropy loss\n",
    "            grad_output_layer = np.matmul(a_internal, cross_entropy_delta.T)\n",
    "            grad_hidden_input = np.matmul(self.output_weights,cross_entropy_delta) * np.array([relu_prime(z) for z in z_internal.T]).T\n",
    "            grad_hidden_layer = np.dot(X_bias,grad_hidden_input.T)\n",
    "        \n",
    "        except IndexError:\n",
    "            X_bias, z_internal, a_internal, _, a_output = self.forward(X)\n",
    "            Y = Y.reshape(self.output_size,1)\n",
    "            z_internal = z_internal.reshape(self.hidden_size,1)\n",
    "            a_internal = a_internal.reshape(self.hidden_size,1)\n",
    "            a_output = a_output.reshape(Y.shape)\n",
    "            # print(X_bias.shape)\n",
    "            # print(Y.shape)\n",
    "            # print(z_internal.shape)\n",
    "            # print(a_internal.shape)\n",
    "            # print(a_output.shape)\n",
    "            \n",
    "            loss = compute_loss(a_output,Y)\n",
    "            \n",
    "            cross_entropy_delta = np.subtract(a_output, Y)  # Derivative of softmax with cross-entropy loss\n",
    "            grad_output_layer = np.matmul(a_internal, cross_entropy_delta.T)\n",
    "            grad_hidden_input = np.matmul(self.output_weights,cross_entropy_delta) * relu_prime(z_internal).reshape(self.hidden_size,1)\n",
    "            grad_hidden_layer = np.dot(X_bias.reshape(self.input_size,1),grad_hidden_input.reshape(self.hidden_size,1).T)  \n",
    "            \n",
    "        return loss, grad_hidden_layer, grad_output_layer\n",
    "\n"
   ]
  },
  {
   "cell_type": "code",
   "execution_count": 169,
   "metadata": {},
   "outputs": [
    {
     "name": "stdout",
     "output_type": "stream",
     "text": [
      "(287, 1000)\n",
      "(7, 1000)\n",
      "Input Matrix Shape: (287, 1000)\n",
      "Target Matrix Shape: (7, 1000)\n",
      "------------------Model Initialised------------------\n"
     ]
    }
   ],
   "source": [
    "sentences, intent, unique_intent = load_dataset(\"../data/dataset.csv\")\n",
    "\n",
    "X = bag_of_words_matrix(sentences=sentences,COUNT_THRESHOLD=2)\n",
    "Y = labels_matrix(data=(intent,unique_intent))\n",
    "print(f\"Input Matrix Shape: {X.shape}\")\n",
    "print(f\"Target Matrix Shape: {Y.shape}\")\n",
    "\n",
    "model = NeuralNetwork(input_size=X.shape[0]+1,\n",
    "                        hidden_size=150,\n",
    "                        num_classes=Y.shape[0])"
   ]
  },
  {
   "cell_type": "code",
   "execution_count": 170,
   "metadata": {},
   "outputs": [],
   "source": [
    "# BATCH_SIZE = 64\n",
    "# START_INDEX = 0\n",
    "# NUM_EXAMPLES = 1000\n",
    "\n",
    "# i = 0\n",
    "# while i < NUM_EXAMPLES:\n",
    "#     print(X[:,i:i+BATCH_SIZE].shape)\n",
    "#     i += BATCH_SIZE\n",
    "        "
   ]
  },
  {
   "cell_type": "code",
   "execution_count": 171,
   "metadata": {},
   "outputs": [],
   "source": [
    "def batch_train(X, Y, model, train_flag=False):\n",
    "    NUM_EXAMPLES = X.shape[1]\n",
    "    prediction = model.predict(X)\n",
    "    hits = np.sum([np.array_equal(prediction[:,i],Y[:,i]) for i in range(X.shape[1])])\n",
    "    print(f\"Accuracy of model : {hits*100/X.shape[1]} %\")\n",
    "    \n",
    "    if train_flag:\n",
    "        loss_list = []\n",
    "        accuracy_list = []\n",
    "        for i in range(NUM_EXAMPLES):\n",
    "            loss, grad_hidden_layer, grad_output_layer = model.backward(X[:,i],Y[:,i])\n",
    "            model.internal_weights -= model.learning_rate * grad_hidden_layer\n",
    "            model.output_weights -= model.learning_rate * grad_output_layer\n",
    "            # loss_list.append(loss)\n",
    "            if i%25 == 0:\n",
    "                print(f\"Inputs processed : {i}\")\n",
    "                prediction = model.predict(X)\n",
    "                hits = np.sum([np.array_equal(prediction[:,i],Y[:,i]) for i in range(NUM_EXAMPLES)])\n",
    "                loss_list.append(compute_loss(prediction,Y))\n",
    "                accuracy_list.append(hits*100/1000)\n",
    "                print(f\"Current loss : {compute_loss(prediction,Y)} \\tCurrent Accuracy : {hits*100/NUM_EXAMPLES} %\")\n",
    "                print(f\"Batch loss : {loss}\")\n",
    "        prediction = model.predict(X)\n",
    "        hits = np.sum([np.array_equal(prediction[:,i],Y[:,i]) for i in range(NUM_EXAMPLES)])\n",
    "        print(f\"Accuracy of model : {hits*100/NUM_EXAMPLES} %\")\n",
    "        \n",
    "def minibatch_train(X, Y, model, BATCH_SIZE:int = 64, train_flag=False):\n",
    "    NUM_EXAMPLES = X.shape[1]\n",
    "    prediction = model.predict(X)\n",
    "    hits = np.sum([np.array_equal(prediction[:,i],Y[:,i]) for i in range(NUM_EXAMPLES)])\n",
    "    print(f\"Accuracy of model : {hits*100/NUM_EXAMPLES} %\")\n",
    "    \n",
    "    if train_flag:\n",
    "        loss_list = []\n",
    "        accuracy_list = []\n",
    "        \n",
    "        i = 0\n",
    "        while i < NUM_EXAMPLES:\n",
    "            loss, grad_hidden_layer, grad_output_layer = model.backward(X[:,i:i+BATCH_SIZE],Y[:,i:i+BATCH_SIZE])\n",
    "            model.internal_weights -= model.learning_rate * grad_hidden_layer\n",
    "            model.output_weights -= model.learning_rate * grad_output_layer\n",
    "            print(f\"loss : {loss}\")\n",
    "            print(f\"Inputs processed : {i}\")\n",
    "            prediction = model.predict(X)\n",
    "            hits = np.sum([np.array_equal(prediction[:,i],Y[:,i]) for i in range(NUM_EXAMPLES)])\n",
    "            loss_list.append(compute_loss(prediction,Y))\n",
    "            accuracy_list.append(hits*100/1000)\n",
    "            print(f\"Current loss : {compute_loss(prediction,Y)} \\tCurrent Accuracy : {hits*100/NUM_EXAMPLES} %\")\n",
    "            i += BATCH_SIZE\n",
    "            \n",
    "    return loss_list"
   ]
  },
  {
   "cell_type": "code",
   "execution_count": 172,
   "metadata": {},
   "outputs": [],
   "source": [
    "# batch_train(X,Y,model,train_flag=True)"
   ]
  },
  {
   "cell_type": "code",
   "execution_count": 173,
   "metadata": {},
   "outputs": [
    {
     "name": "stdout",
     "output_type": "stream",
     "text": [
      "Accuracy of model : 19.4 %\n",
      "Shape of output weights : (7, 64)\n",
      "loss : 1.5774910176822172\n",
      "Inputs processed : 0\n",
      "Current loss : 3.8880793998842305 \tCurrent Accuracy : 21.2 %\n",
      "Shape of output weights : (7, 64)\n",
      "loss : 1.7857261336524135\n",
      "Inputs processed : 64\n",
      "Current loss : 4.006498061809638 \tCurrent Accuracy : 18.8 %\n",
      "Shape of output weights : (7, 64)\n",
      "loss : 1.694996705298218\n",
      "Inputs processed : 128\n",
      "Current loss : 3.157830984677548 \tCurrent Accuracy : 36.0 %\n",
      "Shape of output weights : (7, 64)\n",
      "loss : 1.2432124832765565\n",
      "Inputs processed : 192\n",
      "Current loss : 3.281183757516515 \tCurrent Accuracy : 33.5 %\n",
      "Shape of output weights : (7, 64)\n",
      "loss : 1.0364961754603839\n",
      "Inputs processed : 256\n",
      "Current loss : 3.2811837575165135 \tCurrent Accuracy : 33.5 %\n",
      "Shape of output weights : (7, 64)\n",
      "loss : 0.9040346063285349\n",
      "Inputs processed : 320\n",
      "Current loss : 2.4966601222606863 \tCurrent Accuracy : 49.4 %\n",
      "Shape of output weights : (7, 64)\n",
      "loss : 0.8408179282835656\n",
      "Inputs processed : 384\n",
      "Current loss : 2.323966240286133 \tCurrent Accuracy : 52.9 %\n",
      "Shape of output weights : (7, 64)\n",
      "loss : 0.4803177731074099\n",
      "Inputs processed : 448\n",
      "Current loss : 1.8009504834489143 \tCurrent Accuracy : 63.5 %\n",
      "Shape of output weights : (7, 64)\n",
      "loss : 0.2613055818780528\n",
      "Inputs processed : 512\n",
      "Current loss : 1.5591790486845394 \tCurrent Accuracy : 68.4 %\n",
      "Shape of output weights : (7, 64)\n",
      "loss : 0.2836410282216199\n",
      "Inputs processed : 576\n",
      "Current loss : 1.549310826857422 \tCurrent Accuracy : 68.6 %\n",
      "Shape of output weights : (7, 64)\n",
      "loss : 0.3304773551860863\n",
      "Inputs processed : 640\n",
      "Current loss : 1.5295743832031874 \tCurrent Accuracy : 69.0 %\n",
      "Shape of output weights : (7, 64)\n",
      "loss : 0.4781572153901864\n",
      "Inputs processed : 704\n",
      "Current loss : 1.4901014958947183 \tCurrent Accuracy : 69.8 %\n",
      "Shape of output weights : (7, 64)\n",
      "loss : 0.2638760081952673\n",
      "Inputs processed : 768\n",
      "Current loss : 1.2483300611303432 \tCurrent Accuracy : 74.7 %\n",
      "Shape of output weights : (7, 64)\n",
      "loss : 0.2393251000599658\n",
      "Inputs processed : 832\n",
      "Current loss : 1.2483300611303434 \tCurrent Accuracy : 74.7 %\n",
      "Shape of output weights : (7, 64)\n",
      "loss : 0.19439367522336312\n",
      "Inputs processed : 896\n",
      "Current loss : 1.1397796210320525 \tCurrent Accuracy : 76.9 %\n",
      "Shape of output weights : (7, 40)\n",
      "loss : 0.30625584989337234\n",
      "Inputs processed : 960\n",
      "Current loss : 1.0855044009829071 \tCurrent Accuracy : 78.0 %\n"
     ]
    }
   ],
   "source": [
    "ll = minibatch_train(X,Y,model,BATCH_SIZE=64,train_flag=True)"
   ]
  },
  {
   "cell_type": "code",
   "execution_count": 175,
   "metadata": {},
   "outputs": [
    {
     "data": {
      "text/plain": [
       "16"
      ]
     },
     "execution_count": 175,
     "metadata": {},
     "output_type": "execute_result"
    }
   ],
   "source": [
    "len(ll)"
   ]
  },
  {
   "cell_type": "code",
   "execution_count": 176,
   "metadata": {},
   "outputs": [
    {
     "data": {
      "text/plain": [
       "15"
      ]
     },
     "execution_count": 176,
     "metadata": {},
     "output_type": "execute_result"
    }
   ],
   "source": [
    "1000 // 64"
   ]
  },
  {
   "cell_type": "code",
   "execution_count": 178,
   "metadata": {},
   "outputs": [
    {
     "data": {
      "text/plain": [
       "16"
      ]
     },
     "execution_count": 178,
     "metadata": {},
     "output_type": "execute_result"
    }
   ],
   "source": [
    "len(range(1,1000+1,64))"
   ]
  },
  {
   "cell_type": "code",
   "execution_count": null,
   "metadata": {},
   "outputs": [],
   "source": []
  }
 ],
 "metadata": {
  "kernelspec": {
   "display_name": "anlp2023",
   "language": "python",
   "name": "python3"
  },
  "language_info": {
   "codemirror_mode": {
    "name": "ipython",
    "version": 3
   },
   "file_extension": ".py",
   "mimetype": "text/x-python",
   "name": "python",
   "nbconvert_exporter": "python",
   "pygments_lexer": "ipython3",
   "version": "3.9.5"
  }
 },
 "nbformat": 4,
 "nbformat_minor": 2
}
